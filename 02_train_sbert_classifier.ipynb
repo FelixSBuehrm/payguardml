{
 "cells": [
  {
   "cell_type": "code",
   "execution_count": 44,
   "id": "0ad8cd0d",
   "metadata": {},
   "outputs": [],
   "source": [
    "import pandas as pd\n",
    "import numpy as np\n",
    "import matplotlib.pyplot as plt\n",
    "import seaborn as sns\n",
    "from sentence_transformers import SentenceTransformer\n",
    "from sklearn.model_selection import train_test_split\n",
    "from sklearn.linear_model import LogisticRegression\n",
    "from sklearn.metrics import classification_report, confusion_matrix\n"
   ]
  },
  {
   "cell_type": "markdown",
   "id": "5cd8769a",
   "metadata": {},
   "source": [
    "**1. Load Dataset**"
   ]
  },
  {
   "cell_type": "code",
   "execution_count": 46,
   "id": "23e0c76d",
   "metadata": {},
   "outputs": [
    {
     "name": "stdout",
     "output_type": "stream",
     "text": [
      "Loaded: (5000, 23)\n"
     ]
    },
    {
     "data": {
      "text/html": [
       "<div>\n",
       "<style scoped>\n",
       "    .dataframe tbody tr th:only-of-type {\n",
       "        vertical-align: middle;\n",
       "    }\n",
       "\n",
       "    .dataframe tbody tr th {\n",
       "        vertical-align: top;\n",
       "    }\n",
       "\n",
       "    .dataframe thead th {\n",
       "        text-align: right;\n",
       "    }\n",
       "</style>\n",
       "<table border=\"1\" class=\"dataframe\">\n",
       "  <thead>\n",
       "    <tr style=\"text-align: right;\">\n",
       "      <th></th>\n",
       "      <th>INV1_VENDOR_NAME</th>\n",
       "      <th>INV1_VENDOR_ID</th>\n",
       "      <th>INV1_AMOUNT</th>\n",
       "      <th>INV1_CURRENCY</th>\n",
       "      <th>INV1_INVOICE_DATE</th>\n",
       "      <th>INV1_DESCRIPTION</th>\n",
       "      <th>INV1_PURCHASE_ORDER</th>\n",
       "      <th>INV1_COMPANY_CODE</th>\n",
       "      <th>INV1_COST_CENTER</th>\n",
       "      <th>INV1_TAX_CODE</th>\n",
       "      <th>...</th>\n",
       "      <th>INV2_AMOUNT</th>\n",
       "      <th>INV2_CURRENCY</th>\n",
       "      <th>INV2_INVOICE_DATE</th>\n",
       "      <th>INV2_DESCRIPTION</th>\n",
       "      <th>INV2_PURCHASE_ORDER</th>\n",
       "      <th>INV2_COMPANY_CODE</th>\n",
       "      <th>INV2_COST_CENTER</th>\n",
       "      <th>INV2_TAX_CODE</th>\n",
       "      <th>INV2_PAYMENT_TERMS</th>\n",
       "      <th>label</th>\n",
       "    </tr>\n",
       "  </thead>\n",
       "  <tbody>\n",
       "    <tr>\n",
       "      <th>0</th>\n",
       "      <td>Cooper Ltd</td>\n",
       "      <td>VE1489</td>\n",
       "      <td>633.22</td>\n",
       "      <td>USD</td>\n",
       "      <td>2025-01-31</td>\n",
       "      <td>Heavy town money.</td>\n",
       "      <td>PO9276</td>\n",
       "      <td>1000</td>\n",
       "      <td>CC525</td>\n",
       "      <td>B1</td>\n",
       "      <td>...</td>\n",
       "      <td>626.60</td>\n",
       "      <td>USD</td>\n",
       "      <td>2025-01-31</td>\n",
       "      <td>Heavy town money.</td>\n",
       "      <td>PO9276</td>\n",
       "      <td>1000</td>\n",
       "      <td>CC525</td>\n",
       "      <td>B1</td>\n",
       "      <td>NET30</td>\n",
       "      <td>1</td>\n",
       "    </tr>\n",
       "    <tr>\n",
       "      <th>1</th>\n",
       "      <td>Diaz, Anderson and Browning</td>\n",
       "      <td>VE1316</td>\n",
       "      <td>1369.83</td>\n",
       "      <td>GBP</td>\n",
       "      <td>2024-09-16</td>\n",
       "      <td>Military place edge environmental even eye mes...</td>\n",
       "      <td>PO8146</td>\n",
       "      <td>1000</td>\n",
       "      <td>CC275</td>\n",
       "      <td>A0</td>\n",
       "      <td>...</td>\n",
       "      <td>1368.64</td>\n",
       "      <td>GBP</td>\n",
       "      <td>16/09/2024</td>\n",
       "      <td>Military place edge environmental even eye mes...</td>\n",
       "      <td>PO8146</td>\n",
       "      <td>1000</td>\n",
       "      <td>CC275</td>\n",
       "      <td>A0</td>\n",
       "      <td>NET60</td>\n",
       "      <td>1</td>\n",
       "    </tr>\n",
       "    <tr>\n",
       "      <th>2</th>\n",
       "      <td>Patton-Jenkins</td>\n",
       "      <td>VE1110</td>\n",
       "      <td>2460.07</td>\n",
       "      <td>EUR</td>\n",
       "      <td>2024-12-27</td>\n",
       "      <td>Perhaps lawyer interest star his difficult.</td>\n",
       "      <td>PO2577</td>\n",
       "      <td>2000</td>\n",
       "      <td>CC862</td>\n",
       "      <td>B1</td>\n",
       "      <td>...</td>\n",
       "      <td>2464.33</td>\n",
       "      <td>EUR</td>\n",
       "      <td>27/12/2024</td>\n",
       "      <td>Perhaps lawyer interest star his difficult.</td>\n",
       "      <td>PO2577</td>\n",
       "      <td>2000</td>\n",
       "      <td>CC862</td>\n",
       "      <td>B1</td>\n",
       "      <td>NET60</td>\n",
       "      <td>1</td>\n",
       "    </tr>\n",
       "    <tr>\n",
       "      <th>3</th>\n",
       "      <td>Graham Group</td>\n",
       "      <td>VE1404</td>\n",
       "      <td>1904.09</td>\n",
       "      <td>GBP</td>\n",
       "      <td>2024-11-08</td>\n",
       "      <td>Feeling surface girl expert report include.</td>\n",
       "      <td>PO7972</td>\n",
       "      <td>1000</td>\n",
       "      <td>CC882</td>\n",
       "      <td>A0</td>\n",
       "      <td>...</td>\n",
       "      <td>1922.51</td>\n",
       "      <td>GBP</td>\n",
       "      <td>11-08-2024</td>\n",
       "      <td>Feeling surface girl expert report include.</td>\n",
       "      <td>PO7972</td>\n",
       "      <td>1000</td>\n",
       "      <td>CC882</td>\n",
       "      <td>A0</td>\n",
       "      <td>NET60</td>\n",
       "      <td>1</td>\n",
       "    </tr>\n",
       "    <tr>\n",
       "      <th>4</th>\n",
       "      <td>Sandoval-Cunningham</td>\n",
       "      <td>VE1081</td>\n",
       "      <td>1850.76</td>\n",
       "      <td>EUR</td>\n",
       "      <td>2024-06-30</td>\n",
       "      <td>Service throughout spring film look during mys...</td>\n",
       "      <td>PO4325</td>\n",
       "      <td>2000</td>\n",
       "      <td>CC382</td>\n",
       "      <td>A0</td>\n",
       "      <td>...</td>\n",
       "      <td>1825.69</td>\n",
       "      <td>EUR</td>\n",
       "      <td>06-30-2024</td>\n",
       "      <td>Service throughout spring film look during mys...</td>\n",
       "      <td>PO4325</td>\n",
       "      <td>2000</td>\n",
       "      <td>CC382</td>\n",
       "      <td>A0</td>\n",
       "      <td>NET30</td>\n",
       "      <td>1</td>\n",
       "    </tr>\n",
       "  </tbody>\n",
       "</table>\n",
       "<p>5 rows × 23 columns</p>\n",
       "</div>"
      ],
      "text/plain": [
       "              INV1_VENDOR_NAME INV1_VENDOR_ID  INV1_AMOUNT INV1_CURRENCY  \\\n",
       "0                   Cooper Ltd         VE1489       633.22           USD   \n",
       "1  Diaz, Anderson and Browning         VE1316      1369.83           GBP   \n",
       "2               Patton-Jenkins         VE1110      2460.07           EUR   \n",
       "3                 Graham Group         VE1404      1904.09           GBP   \n",
       "4          Sandoval-Cunningham         VE1081      1850.76           EUR   \n",
       "\n",
       "  INV1_INVOICE_DATE                                   INV1_DESCRIPTION  \\\n",
       "0        2025-01-31                                  Heavy town money.   \n",
       "1        2024-09-16  Military place edge environmental even eye mes...   \n",
       "2        2024-12-27        Perhaps lawyer interest star his difficult.   \n",
       "3        2024-11-08        Feeling surface girl expert report include.   \n",
       "4        2024-06-30  Service throughout spring film look during mys...   \n",
       "\n",
       "  INV1_PURCHASE_ORDER  INV1_COMPANY_CODE INV1_COST_CENTER INV1_TAX_CODE  ...  \\\n",
       "0              PO9276               1000            CC525            B1  ...   \n",
       "1              PO8146               1000            CC275            A0  ...   \n",
       "2              PO2577               2000            CC862            B1  ...   \n",
       "3              PO7972               1000            CC882            A0  ...   \n",
       "4              PO4325               2000            CC382            A0  ...   \n",
       "\n",
       "  INV2_AMOUNT INV2_CURRENCY INV2_INVOICE_DATE  \\\n",
       "0      626.60           USD        2025-01-31   \n",
       "1     1368.64           GBP        16/09/2024   \n",
       "2     2464.33           EUR        27/12/2024   \n",
       "3     1922.51           GBP        11-08-2024   \n",
       "4     1825.69           EUR        06-30-2024   \n",
       "\n",
       "                                    INV2_DESCRIPTION INV2_PURCHASE_ORDER  \\\n",
       "0                                  Heavy town money.              PO9276   \n",
       "1  Military place edge environmental even eye mes...              PO8146   \n",
       "2        Perhaps lawyer interest star his difficult.              PO2577   \n",
       "3        Feeling surface girl expert report include.              PO7972   \n",
       "4  Service throughout spring film look during mys...              PO4325   \n",
       "\n",
       "  INV2_COMPANY_CODE INV2_COST_CENTER INV2_TAX_CODE  INV2_PAYMENT_TERMS label  \n",
       "0              1000            CC525            B1               NET30     1  \n",
       "1              1000            CC275            A0               NET60     1  \n",
       "2              2000            CC862            B1               NET60     1  \n",
       "3              1000            CC882            A0               NET60     1  \n",
       "4              2000            CC382            A0               NET30     1  \n",
       "\n",
       "[5 rows x 23 columns]"
      ]
     },
     "execution_count": 46,
     "metadata": {},
     "output_type": "execute_result"
    }
   ],
   "source": [
    "# Adjust the filename if needed\n",
    "df = pd.read_csv('synthetic_invoice_pairs.csv', \n",
    "                 parse_dates=['INV1_INVOICE_DATE','INV2_INVOICE_DATE'])\n",
    "print(\"Loaded:\", df.shape)\n",
    "df.head()\n"
   ]
  },
  {
   "cell_type": "markdown",
   "id": "7b73e68e",
   "metadata": {},
   "source": [
    "**2. Text Preprocessing for SBERT**"
   ]
  },
  {
   "cell_type": "code",
   "execution_count": 47,
   "id": "881928a7",
   "metadata": {},
   "outputs": [],
   "source": [
    "def invoice_to_text(row, prefix='INV1'):\n",
    "    date = row[f'{prefix}_INVOICE_DATE']\n",
    "    # ensure string\n",
    "    ds = date.strftime('%Y-%m-%d') if hasattr(date, 'strftime') else str(date)\n",
    "    return (\n",
    "        f\"Vendor: {row[f'{prefix}_VENDOR_NAME']} ({row[f'{prefix}_VENDOR_ID']})\\n\"\n",
    "        f\"Amount: {row[f'{prefix}_AMOUNT']} {row[f'{prefix}_CURRENCY']}\\n\"\n",
    "        f\"Date: {ds}\\n\"\n",
    "        f\"Description: {row[f'{prefix}_DESCRIPTION']}\\n\"\n",
    "        f\"PO: {row[f'{prefix}_PURCHASE_ORDER']}\\n\"\n",
    "        f\"Company: {row[f'{prefix}_COMPANY_CODE']}, Cost Center: {row[f'{prefix}_COST_CENTER']}\\n\"\n",
    "        f\"Tax: {row[f'{prefix}_TAX_CODE']}, Terms: {row[f'{prefix}_PAYMENT_TERMS']}\"\n",
    "    )\n",
    "\n",
    "df['text1'] = df.apply(lambda r: invoice_to_text(r, 'INV1'), axis=1)\n",
    "df['text2'] = df.apply(lambda r: invoice_to_text(r, 'INV2'), axis=1)\n"
   ]
  },
  {
   "cell_type": "markdown",
   "id": "ca7816c7",
   "metadata": {},
   "source": [
    "**3.  Industry-specific rules**"
   ]
  },
  {
   "cell_type": "code",
   "execution_count": 48,
   "id": "1b481c5d",
   "metadata": {},
   "outputs": [],
   "source": [
    "# Exact‐match amount\n",
    "df['same_amount'] = (df['INV1_AMOUNT'] == df['INV2_AMOUNT']).astype(int)\n",
    "# % difference\n",
    "df['pct_diff'] = (df['INV1_AMOUNT'] - df['INV2_AMOUNT']).abs() / df['INV1_AMOUNT']\n",
    "# Within 5%\n",
    "df['within_5pct'] = (df['pct_diff'] <= 0.05).astype(int)\n",
    "# Clean up helper\n",
    "df.drop(columns=['pct_diff'], inplace=True)\n"
   ]
  },
  {
   "cell_type": "markdown",
   "id": "67eb0f2e",
   "metadata": {},
   "source": [
    "**4. SBERT Encoding**"
   ]
  },
  {
   "cell_type": "code",
   "execution_count": 49,
   "id": "31b5d14f",
   "metadata": {},
   "outputs": [
    {
     "data": {
      "application/vnd.jupyter.widget-view+json": {
       "model_id": "9fa1f7b23a10483e99b442402b410ac1",
       "version_major": 2,
       "version_minor": 0
      },
      "text/plain": [
       "Batches:   0%|          | 0/157 [00:00<?, ?it/s]"
      ]
     },
     "metadata": {},
     "output_type": "display_data"
    },
    {
     "data": {
      "application/vnd.jupyter.widget-view+json": {
       "model_id": "e3201f6b7965463c85df719d1b268bf8",
       "version_major": 2,
       "version_minor": 0
      },
      "text/plain": [
       "Batches:   0%|          | 0/157 [00:00<?, ?it/s]"
      ]
     },
     "metadata": {},
     "output_type": "display_data"
    }
   ],
   "source": [
    "model = SentenceTransformer('all-MiniLM-L6-v2')\n",
    "\n",
    "emb1 = model.encode(\n",
    "    df['text1'].tolist(), \n",
    "    batch_size=32, \n",
    "    show_progress_bar=True\n",
    ")\n",
    "emb2 = model.encode(\n",
    "    df['text2'].tolist(), \n",
    "    batch_size=32, \n",
    "    show_progress_bar=True\n",
    ")\n"
   ]
  },
  {
   "cell_type": "markdown",
   "id": "a0a9ca31",
   "metadata": {},
   "source": [
    "**5. Assemble Feature Matrix***"
   ]
  },
  {
   "cell_type": "code",
   "execution_count": 50,
   "id": "954f73bd",
   "metadata": {},
   "outputs": [
    {
     "name": "stdout",
     "output_type": "stream",
     "text": [
      "Feature matrix: (5000, 770)\n"
     ]
    }
   ],
   "source": [
    "# SBERT‐based features\n",
    "sb_feats = np.hstack([np.abs(emb1 - emb2), emb1 * emb2])\n",
    "\n",
    "# Engineered features\n",
    "eng_feats = df[['same_amount','within_5pct']].values\n",
    "\n",
    "# Final X, y\n",
    "X = np.hstack([sb_feats, eng_feats])\n",
    "y = df['label'].values\n",
    "\n",
    "print(\"Feature matrix:\", X.shape)"
   ]
  },
  {
   "cell_type": "markdown",
   "id": "bd6174fc",
   "metadata": {},
   "source": [
    "**6. Classification Model - Logistic regression**"
   ]
  },
  {
   "cell_type": "code",
   "execution_count": 51,
   "id": "8b2dca60",
   "metadata": {},
   "outputs": [
    {
     "name": "stdout",
     "output_type": "stream",
     "text": [
      "               precision    recall  f1-score   support\n",
      "\n",
      "Not Duplicate       0.99      1.00      0.99       920\n",
      "    Duplicate       0.95      0.91      0.93        80\n",
      "\n",
      "     accuracy                           0.99      1000\n",
      "    macro avg       0.97      0.95      0.96      1000\n",
      " weighted avg       0.99      0.99      0.99      1000\n",
      "\n"
     ]
    },
    {
     "data": {
      "image/png": "[encoded data removed]",
      "text/plain": [
       "<Figure size 500x400 with 2 Axes>"
      ]
     },
     "metadata": {},
     "output_type": "display_data"
    }
   ],
   "source": [
    "# Train test split\n",
    "X_train, X_test, y_train, y_test = train_test_split(\n",
    "    X, y, test_size=0.2, random_state=42, stratify=y\n",
    ")\n",
    "\n",
    "clf = LogisticRegression(max_iter=1000)\n",
    "clf.fit(X_train, y_train)\n",
    "\n",
    "y_pred = clf.predict(X_test)\n",
    "\n",
    "print(classification_report(\n",
    "    y_test, y_pred,\n",
    "    target_names=['Not Duplicate','Duplicate']\n",
    "))\n",
    "\n",
    "cm = confusion_matrix(y_test, y_pred)\n",
    "plt.figure(figsize=(5,4))\n",
    "sns.heatmap(\n",
    "    cm, annot=True, fmt='d', cmap='Blues',\n",
    "    xticklabels=['Not Dup','Dup'],\n",
    "    yticklabels=['Not Dup','Dup']\n",
    ")\n",
    "plt.xlabel('Predicted')\n",
    "plt.ylabel('True')\n",
    "plt.title('Confusion Matrix')\n",
    "plt.show()\n"
   ]
  }
 ],
 "metadata": {
  "kernelspec": {
   "display_name": "Python (myenv)",
   "language": "python",
   "name": "myenv"
  },
  "language_info": {
   "codemirror_mode": {
    "name": "ipython",
    "version": 3
   },
   "file_extension": ".py",
   "mimetype": "text/x-python",
   "name": "python",
   "nbconvert_exporter": "python",
   "pygments_lexer": "ipython3",
   "version": "3.12.7"
  }
 },
 "nbformat": 4,
 "nbformat_minor": 5
}
